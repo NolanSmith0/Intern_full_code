{
 "cells": [
  {
   "cell_type": "code",
   "execution_count": 4,
   "id": "b09e8196",
   "metadata": {},
   "outputs": [],
   "source": [
    "import pandas as pd"
   ]
  },
  {
   "cell_type": "code",
   "execution_count": 5,
   "id": "6d4a6a31",
   "metadata": {},
   "outputs": [
    {
     "data": {
      "text/plain": [
       "Index(['省份', '城市', '地区', '成交时间', '小区名称', '建筑面积', '朝向', '装修', '成交价格', '楼层',\n",
       "       '建成年份', '建筑类型', '房屋类型', '成交平米价格', '交易周期'],\n",
       "      dtype='object')"
      ]
     },
     "execution_count": 5,
     "metadata": {},
     "output_type": "execute_result"
    }
   ],
   "source": [
    "data.columns"
   ]
  },
  {
   "cell_type": "code",
   "execution_count": 2,
   "id": "23af41c3",
   "metadata": {},
   "outputs": [
    {
     "name": "stderr",
     "output_type": "stream",
     "text": [
      "/tmp/ipykernel_33455/3782072736.py:1: DtypeWarning: Columns (14) have mixed types. Specify dtype option on import or set low_memory=False.\n",
      "  data = pd.read_csv('./链家成交数据.csv')\n"
     ]
    }
   ],
   "source": [
    "data = pd.read_csv('./链家成交数据.csv')"
   ]
  },
  {
   "cell_type": "code",
   "execution_count": 11,
   "id": "9e922717",
   "metadata": {},
   "outputs": [
    {
     "data": {
      "text/plain": [
       "省份        321848\n",
       "城市        321848\n",
       "地区        321848\n",
       "成交时间      321848\n",
       "小区名称      321848\n",
       "建筑面积      321848\n",
       "朝向        321848\n",
       "装修        321848\n",
       "成交价格      321848\n",
       "楼层        321848\n",
       "建成年份      321848\n",
       "建筑类型      321848\n",
       "房屋类型      321848\n",
       "成交平米价格    321848\n",
       "交易周期      321781\n",
       "dtype: int64"
      ]
     },
     "execution_count": 11,
     "metadata": {},
     "output_type": "execute_result"
    }
   ],
   "source": [
    "data[data['城市'] == '上海'].count()"
   ]
  },
  {
   "cell_type": "code",
   "execution_count": 3,
   "id": "0b468ee8",
   "metadata": {},
   "outputs": [
    {
     "data": {
      "text/plain": [
       "(1505416, 15)"
      ]
     },
     "execution_count": 3,
     "metadata": {},
     "output_type": "execute_result"
    }
   ],
   "source": [
    "data[data['成交价格'] == '暂无价格'].shape"
   ]
  },
  {
   "cell_type": "code",
   "execution_count": 4,
   "id": "55f33c31",
   "metadata": {},
   "outputs": [
    {
     "data": {
      "text/plain": [
       "省份\n",
       "上海         55\n",
       "云南         99\n",
       "内蒙古         1\n",
       "北京     618612\n",
       "四川         23\n",
       "安徽      62218\n",
       "广东     163914\n",
       "江苏      66976\n",
       "河北         25\n",
       "浙江     238508\n",
       "海南        428\n",
       "湖北     189201\n",
       "福建      16804\n",
       "陕西     148552\n",
       "Name: 成交价格, dtype: int64"
      ]
     },
     "execution_count": 4,
     "metadata": {},
     "output_type": "execute_result"
    }
   ],
   "source": [
    "data[data['成交价格'] == '暂无价格'].groupby(['省份'])['成交价格'].count()"
   ]
  },
  {
   "cell_type": "code",
   "execution_count": 6,
   "id": "36fd340f",
   "metadata": {},
   "outputs": [
    {
     "data": {
      "text/plain": [
       "省份\n",
       "上海     321848\n",
       "云南      28935\n",
       "内蒙古     50456\n",
       "北京     618612\n",
       "吉林      48769\n",
       "四川     381296\n",
       "宁夏      42630\n",
       "安徽     184836\n",
       "山东     252116\n",
       "山西       3367\n",
       "广东     417383\n",
       "广西      38992\n",
       "新疆       9614\n",
       "江苏     524319\n",
       "江西      63355\n",
       "河北     132157\n",
       "河南     154138\n",
       "浙江     289858\n",
       "海南       9146\n",
       "湖北     206505\n",
       "湖南      89152\n",
       "甘肃      17440\n",
       "福建      80176\n",
       "贵州      33900\n",
       "辽宁     277351\n",
       "重庆     190145\n",
       "陕西     178748\n",
       "黑龙江     32969\n",
       "Name: 成交价格, dtype: int64"
      ]
     },
     "execution_count": 6,
     "metadata": {},
     "output_type": "execute_result"
    }
   ],
   "source": [
    "data.groupby('省份')['成交价格'].count()"
   ]
  }
 ],
 "metadata": {
  "kernelspec": {
   "display_name": "Python 3 (ipykernel)",
   "language": "python",
   "name": "python3"
  },
  "language_info": {
   "codemirror_mode": {
    "name": "ipython",
    "version": 3
   },
   "file_extension": ".py",
   "mimetype": "text/x-python",
   "name": "python",
   "nbconvert_exporter": "python",
   "pygments_lexer": "ipython3",
   "version": "3.10.9"
  }
 },
 "nbformat": 4,
 "nbformat_minor": 5
}
