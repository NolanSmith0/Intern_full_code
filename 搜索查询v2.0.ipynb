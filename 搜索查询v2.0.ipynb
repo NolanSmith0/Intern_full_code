{
 "cells": [
  {
   "cell_type": "markdown",
   "metadata": {},
   "source": [
    "# 搜索爬虫\n",
    "\n",
    "---"
   ]
  },
  {
   "cell_type": "code",
   "execution_count": null,
   "metadata": {},
   "outputs": [],
   "source": [
    "import re\n",
    "import threading\n",
    "from warnings import filterwarnings\n",
    "from pandas import read_csv, DataFrame, merge\n",
    "from time import sleep\n",
    "from bs4 import BeautifulSoup as bs\n",
    "from selenium import webdriver\n",
    "from selenium.webdriver.common.by import By\n",
    "from selenium.webdriver.support.ui import WebDriverWait\n",
    "from selenium.webdriver.support import expected_conditions as EC\n",
    "from selenium.webdriver.common.keys import Keys\n",
    "from selenium.webdriver.firefox.options import Options\n",
    "\n",
    "filterwarnings(\"ignore\")"
   ]
  },
  {
   "cell_type": "code",
   "execution_count": null,
   "metadata": {},
   "outputs": [],
   "source": [
    "def split_list(lst, num_splits):\n",
    "    split_size = len(lst) // num_splits\n",
    "    remainder = len(lst) % num_splits\n",
    "\n",
    "    splits = []\n",
    "    index = 0\n",
    "\n",
    "    for _ in range(num_splits):\n",
    "        split_end = index + split_size + (1 if remainder > 0 else 0)\n",
    "        splits.append(lst[index:split_end])\n",
    "        index = split_end\n",
    "        remainder -= 1\n",
    "\n",
    "    return splits\n",
    "\n",
    "\n",
    "def collect_Baidu(company_names, extra, num):\n",
    "    '''\n",
    "    collecting.........\n",
    "    '''\n",
    "    global bai_du_result\n",
    "    global bai_du_failed\n",
    "    global task_length\n",
    "    \n",
    "    subtasks = split_list(company_names, num)\n",
    "    max_subtasks = max([len(i) for i in subtasks])\n",
    "    \n",
    "    # start driver-------------------------------\n",
    "    options = Options()\n",
    "    options.headless = True\n",
    "    driver = webdriver.Firefox(options=options)\n",
    "    wait = WebDriverWait(driver, 10)\n",
    "    driver.get('https://www.baidu.com/')\n",
    "    \n",
    "    # parameters\n",
    "    tests = [0 for _ in range(num)]\n",
    "    \n",
    "    # open tabs\n",
    "    for _ in range(num - 1):\n",
    "        driver.execute_script(\"window.open('https://www.baidu.com/', '_blank');\")\n",
    "        \n",
    "    for i in range(num):\n",
    "        driver.switch_to.window(driver.window_handles[i])\n",
    "        wait.until(EC.visibility_of_element_located((By.CSS_SELECTOR, '#kw')))\n",
    "    \n",
    "    # collecting\n",
    "    for j in range(max_subtasks):\n",
    "        \n",
    "        for i in range(num):\n",
    "            driver.switch_to.window(driver.window_handles[i])\n",
    "            if j >= len(subtasks[i]):\n",
    "                pass\n",
    "            else:\n",
    "                # search for the company j\n",
    "                box = driver.find_element(By.CSS_SELECTOR, '#kw')\n",
    "                box.clear()\n",
    "                box.send_keys('\\\"' + subtasks[i][j] + '\\\"' + extra)\n",
    "                box.send_keys(Keys.RETURN)\n",
    "\n",
    "        for i in range(num):\n",
    "            try:\n",
    "                driver.switch_to.window(driver.window_handles[i])\n",
    "                if j >= len(subtasks[i]):\n",
    "                    pass\n",
    "                else:\n",
    "                    # collect data\n",
    "                    wait.until(EC.visibility_of_element_located((By.CSS_SELECTOR, '.hint_PIwZX')))\n",
    "                    not_loaded = [True for _ in range(num)]\n",
    "                    while not_loaded[i]:\n",
    "                        test = bs(driver.page_source, 'html.parser').select_one('#content_left > div')\n",
    "                        if test != tests[i]:\n",
    "                            not_loaded[i] = False\n",
    "                        sleep(1)\n",
    "                    tests[i] = test\n",
    "                    _result = bs(driver.page_source, 'html.parser').select_one('.hint_PIwZX').get_text()\n",
    "                    _result = re.findall(r'\\d{1,3}(?:,\\d{3})*|\\d+', _result)[0]\n",
    "                    bai_du_result.append({'简称' : subtasks[i][j], '百度搜索结果' : _result})\n",
    "                    with print_lock:\n",
    "                        print(f\"==========Finished:\\033[1;32m{round((len(bai_du_result) / task_length) * 100, 3)}%\\033[0m Failed:\\033[1;31m{len(bai_du_failed)}\\033[0m==========\".ljust(40), end='\\r')\n",
    "            except:\n",
    "                bai_du_failed.append(subtasks[i][j])\n",
    "            \n",
    "    driver.quit()\n",
    "\n",
    "    return None\n",
    "\n",
    "\n",
    "def collect_Google(company_names, extra, num):\n",
    "    '''\n",
    "    collecting.........\n",
    "    '''\n",
    "    global google_result\n",
    "    global google_failed\n",
    "    global task_length\n",
    "    \n",
    "    subtasks = split_list(company_names, num)\n",
    "    max_subtasks = max([len(i) for i in subtasks])\n",
    "    \n",
    "    # start driver-------------------------------\n",
    "    driver = webdriver.Firefox()\n",
    "    wait = WebDriverWait(driver, 10)\n",
    "    driver.get('https://www.google.com.hk/advanced_search?hl=zh-CN&fg=1')\n",
    "    \n",
    "    # parameters\n",
    "    tests = [0 for _ in range(num)]\n",
    "    \n",
    "    # open tabs\n",
    "    for _ in range(num - 1):\n",
    "        driver.execute_script(\"window.open('https://www.google.com.hk/advanced_search?hl=zh-CN&fg=1', '_blank');\")\n",
    "        sleep(1)\n",
    "        \n",
    "    # search\n",
    "    for i in range(num):\n",
    "        driver.switch_to.window(driver.window_handles[i])\n",
    "        wait.until(EC.visibility_of_element_located((By.CSS_SELECTOR, '#xX4UFf')))\n",
    "        box = driver.find_element(By.CSS_SELECTOR, '#xX4UFf')\n",
    "        box.clear()\n",
    "        box.send_keys('京东')\n",
    "        box.send_keys(Keys.RETURN)\n",
    "        sleep(1)\n",
    "        \n",
    "    print('请通过各个网页的放爬虫机制')\n",
    "    input('完成后输入任何文字来继续 ： ')\n",
    "        \n",
    "    for i in range(num):\n",
    "        driver.switch_to.window(driver.window_handles[i])\n",
    "        wait.until(EC.visibility_of_element_located((By.CSS_SELECTOR, '#APjFqb')))\n",
    "    \n",
    "    for j in range(max_subtasks):\n",
    "        \n",
    "        for i in range(num):\n",
    "            driver.switch_to.window(driver.window_handles[i])\n",
    "            if j >= len(subtasks[i]):\n",
    "                pass\n",
    "            else:\n",
    "                # search for the company j\n",
    "                box = driver.find_element(By.CSS_SELECTOR, '#APjFqb')\n",
    "                box.clear()\n",
    "                box.send_keys('\\\"' + subtasks[i][j] + '\\\"' + extra)\n",
    "                box.send_keys(Keys.RETURN)\n",
    "                sleep(1.5)\n",
    "\n",
    "        for i in range(num):\n",
    "            try:\n",
    "                driver.switch_to.window(driver.window_handles[i])\n",
    "                if j >= len(subtasks[i]):\n",
    "                    pass\n",
    "                else:\n",
    "                    # collect data\n",
    "                    try:\n",
    "                        if '异常流量' in bs(driver.page_source, 'html.parser').select_one('body > div:nth-child(1) > div:nth-child(5)').get_text():\n",
    "                            print('请通过各个网页的放爬虫机制')\n",
    "                            input('完成后输入任何文字来继续 ： ')\n",
    "                    except:\n",
    "                        pass\n",
    "                    wait.until(EC.visibility_of_element_located((By.CSS_SELECTOR, '#result-stats')))\n",
    "                    not_loaded = [True for _ in range(num)]\n",
    "                    while not_loaded[i]:\n",
    "                        test = bs(driver.page_source, 'html.parser').select_one('#center_col')\n",
    "                        if test != tests[i]:\n",
    "                            not_loaded[i] = False\n",
    "                        sleep(1)\n",
    "                    tests[i] = test\n",
    "                    _result = bs(driver.page_source, 'html.parser').select_one('#result-stats').get_text()\n",
    "                    _result = re.findall(r'\\d{1,3}(?:,\\d{3})*|\\d+', _result)[0]\n",
    "                    google_result.append({'简称' : subtasks[i][j], 'Google搜索结果' : _result})\n",
    "                    with print_lock:\n",
    "                        print(f\"==========Finished:\\033[1;32m{round((len(google_result) / task_length) * 100, 3)}%\\033[0m Failed:\\033[1;31m{len(google_failed)}\\033[0m==========\".ljust(40), end='\\r')\n",
    "            except:\n",
    "                google_failed.append(subtasks[i][j])\n",
    "            \n",
    "    driver.quit()\n",
    "\n",
    "    return None"
   ]
  },
  {
   "cell_type": "markdown",
   "metadata": {},
   "source": [
    "## 参数定义，请输入你要加入的额外关键词"
   ]
  },
  {
   "cell_type": "code",
   "execution_count": null,
   "metadata": {},
   "outputs": [],
   "source": [
    "data = read_csv('/home/nolan/Documents/Notebook/scraper/南通公司列表(带股东).csv')\n",
    "\n",
    "# 这里输入额外关键词\n",
    "extra = ' 官网'\n",
    "# 这里输入你想设定的多线程数量，越多相当于开更多的浏览器\n",
    "# 注意并不是反比例增长，越多的浏览器会带来越大的运行压力，降低所有浏览器运行速度\n",
    "num_threads = 1\n",
    "# 这里输入每个浏览器同时开多少个页面\n",
    "num_tabs = 1\n",
    "# 这里输入每个google浏览器同时开多少个页面\n",
    "Gnum_tabs = 5\n",
    "\n",
    "print_lock = threading.Lock()\n",
    "task_length = data.shape[0]"
   ]
  },
  {
   "cell_type": "markdown",
   "metadata": {},
   "source": [
    "## 百度"
   ]
  },
  {
   "cell_type": "code",
   "execution_count": null,
   "metadata": {
    "scrolled": true
   },
   "outputs": [],
   "source": [
    "threads = []\n",
    "bai_du_result = []\n",
    "bai_du_failed = []\n",
    "tasks = split_list(data['简称'].to_list(), num_threads)\n",
    "\n",
    "for _ in range(num_threads):\n",
    "    thread = threading.Thread(target=collect_Baidu, args=(tasks[_], extra, num_tabs))\n",
    "    threads.append(thread)\n",
    "    thread.start()\n",
    "\n",
    "# Wait for all threads to complete\n",
    "for thread in threads:\n",
    "    thread.join()"
   ]
  },
  {
   "cell_type": "code",
   "execution_count": null,
   "metadata": {},
   "outputs": [],
   "source": [
    "# 合并\n",
    "data = merge(data, pd.Dataframe(bai_du_result), on='简称')"
   ]
  },
  {
   "cell_type": "markdown",
   "metadata": {},
   "source": [
    "## Google"
   ]
  },
  {
   "cell_type": "code",
   "execution_count": null,
   "metadata": {
    "scrolled": true
   },
   "outputs": [],
   "source": [
    "google_result = []\n",
    "google_failed = []\n",
    "collect_Google(data['简称'].to_list(), extra, Gnum_tabs)"
   ]
  },
  {
   "cell_type": "code",
   "execution_count": null,
   "metadata": {},
   "outputs": [],
   "source": [
    "# 展示前20个\n",
    "google_result[:20]"
   ]
  },
  {
   "cell_type": "code",
   "execution_count": null,
   "metadata": {},
   "outputs": [],
   "source": [
    "# 合并\n",
    "data = merge(data, pd.Dataframe(google_result), on='简称')"
   ]
  },
  {
   "cell_type": "markdown",
   "metadata": {},
   "source": [
    "## 保存"
   ]
  },
  {
   "cell_type": "code",
   "execution_count": null,
   "metadata": {},
   "outputs": [],
   "source": [
    "data.to_csv('./(已搜索)全国专精特新小巨人_搜索验证.csv')"
   ]
  }
 ],
 "metadata": {
  "kernelspec": {
   "display_name": "Python 3 (ipykernel)",
   "language": "python",
   "name": "python3"
  },
  "language_info": {
   "codemirror_mode": {
    "name": "ipython",
    "version": 3
   },
   "file_extension": ".py",
   "mimetype": "text/x-python",
   "name": "python",
   "nbconvert_exporter": "python",
   "pygments_lexer": "ipython3",
   "version": "3.10.9"
  }
 },
 "nbformat": 4,
 "nbformat_minor": 4
}
